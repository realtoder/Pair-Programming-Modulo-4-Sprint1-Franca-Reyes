{
 "cells": [
  {
   "cell_type": "code",
   "execution_count": 1,
   "metadata": {},
   "outputs": [],
   "source": [
    "import pandas as pd\n",
    "import numpy as np\n",
    "import matplotlib.pyplot as plt\n",
    "import seaborn as sns\n",
    "pd.set_option('display.max_columns', None) # para poder visualizar todas las columnas de los DataFrames"
   ]
  },
  {
   "cell_type": "code",
   "execution_count": 43,
   "metadata": {},
   "outputs": [
    {
     "data": {
      "text/html": [
       "<div>\n",
       "<style scoped>\n",
       "    .dataframe tbody tr th:only-of-type {\n",
       "        vertical-align: middle;\n",
       "    }\n",
       "\n",
       "    .dataframe tbody tr th {\n",
       "        vertical-align: top;\n",
       "    }\n",
       "\n",
       "    .dataframe thead th {\n",
       "        text-align: right;\n",
       "    }\n",
       "</style>\n",
       "<table border=\"1\" class=\"dataframe\">\n",
       "  <thead>\n",
       "    <tr style=\"text-align: right;\">\n",
       "      <th></th>\n",
       "      <th>index</th>\n",
       "      <th>Publishing Year</th>\n",
       "      <th>Book Name</th>\n",
       "      <th>Author</th>\n",
       "      <th>language_code</th>\n",
       "      <th>Author_Rating</th>\n",
       "      <th>Book_average_rating</th>\n",
       "      <th>Book_ratings_count</th>\n",
       "      <th>genre</th>\n",
       "      <th>gross sales</th>\n",
       "      <th>publisher revenue</th>\n",
       "      <th>sale price</th>\n",
       "      <th>sales rank</th>\n",
       "      <th>Publisher</th>\n",
       "      <th>units sold</th>\n",
       "    </tr>\n",
       "  </thead>\n",
       "  <tbody>\n",
       "    <tr>\n",
       "      <th>1065</th>\n",
       "      <td>1065</td>\n",
       "      <td>2014.0</td>\n",
       "      <td>Gray Mountain</td>\n",
       "      <td>John Grisham</td>\n",
       "      <td>eng</td>\n",
       "      <td>Intermediate</td>\n",
       "      <td>3.52</td>\n",
       "      <td>37379</td>\n",
       "      <td>nonfiction</td>\n",
       "      <td>104.94</td>\n",
       "      <td>62.964</td>\n",
       "      <td>0.99</td>\n",
       "      <td>1268</td>\n",
       "      <td>Amazon Digital Services,  Inc.</td>\n",
       "      <td>106</td>\n",
       "    </tr>\n",
       "    <tr>\n",
       "      <th>1066</th>\n",
       "      <td>1066</td>\n",
       "      <td>1989.0</td>\n",
       "      <td>The Power of One</td>\n",
       "      <td>Bryce Courtenay</td>\n",
       "      <td>eng</td>\n",
       "      <td>Excellent</td>\n",
       "      <td>4.34</td>\n",
       "      <td>57312</td>\n",
       "      <td>genre fiction</td>\n",
       "      <td>846.94</td>\n",
       "      <td>508.164</td>\n",
       "      <td>7.99</td>\n",
       "      <td>1270</td>\n",
       "      <td>Random House LLC</td>\n",
       "      <td>106</td>\n",
       "    </tr>\n",
       "    <tr>\n",
       "      <th>1067</th>\n",
       "      <td>1067</td>\n",
       "      <td>1930.0</td>\n",
       "      <td>The Maltese Falcon</td>\n",
       "      <td>Dashiell Hammett</td>\n",
       "      <td>eng</td>\n",
       "      <td>Intermediate</td>\n",
       "      <td>3.92</td>\n",
       "      <td>58742</td>\n",
       "      <td>genre fiction</td>\n",
       "      <td>846.94</td>\n",
       "      <td>508.164</td>\n",
       "      <td>7.99</td>\n",
       "      <td>1271</td>\n",
       "      <td>Hachette Book Group</td>\n",
       "      <td>106</td>\n",
       "    </tr>\n",
       "    <tr>\n",
       "      <th>1068</th>\n",
       "      <td>1068</td>\n",
       "      <td>2011.0</td>\n",
       "      <td>Night Road</td>\n",
       "      <td>Kristin Hannah</td>\n",
       "      <td>en-US</td>\n",
       "      <td>Excellent</td>\n",
       "      <td>4.17</td>\n",
       "      <td>58028</td>\n",
       "      <td>genre fiction</td>\n",
       "      <td>104.94</td>\n",
       "      <td>62.964</td>\n",
       "      <td>0.99</td>\n",
       "      <td>1272</td>\n",
       "      <td>Amazon Digital Services,  Inc.</td>\n",
       "      <td>106</td>\n",
       "    </tr>\n",
       "    <tr>\n",
       "      <th>1069</th>\n",
       "      <td>1069</td>\n",
       "      <td>1999.0</td>\n",
       "      <td>Tripwire</td>\n",
       "      <td>Lee Child</td>\n",
       "      <td>eng</td>\n",
       "      <td>Excellent</td>\n",
       "      <td>4.07</td>\n",
       "      <td>55251</td>\n",
       "      <td>genre fiction</td>\n",
       "      <td>316.94</td>\n",
       "      <td>0.000</td>\n",
       "      <td>2.99</td>\n",
       "      <td>1273</td>\n",
       "      <td>Amazon Digital Services,  Inc.</td>\n",
       "      <td>106</td>\n",
       "    </tr>\n",
       "  </tbody>\n",
       "</table>\n",
       "</div>"
      ],
      "text/plain": [
       "      index  Publishing Year           Book Name            Author  \\\n",
       "1065   1065           2014.0       Gray Mountain      John Grisham   \n",
       "1066   1066           1989.0    The Power of One   Bryce Courtenay   \n",
       "1067   1067           1930.0  The Maltese Falcon  Dashiell Hammett   \n",
       "1068   1068           2011.0          Night Road    Kristin Hannah   \n",
       "1069   1069           1999.0            Tripwire         Lee Child   \n",
       "\n",
       "     language_code Author_Rating  Book_average_rating  Book_ratings_count  \\\n",
       "1065           eng  Intermediate                 3.52               37379   \n",
       "1066           eng     Excellent                 4.34               57312   \n",
       "1067           eng  Intermediate                 3.92               58742   \n",
       "1068         en-US     Excellent                 4.17               58028   \n",
       "1069           eng     Excellent                 4.07               55251   \n",
       "\n",
       "              genre  gross sales  publisher revenue  sale price  sales rank  \\\n",
       "1065     nonfiction       104.94             62.964        0.99        1268   \n",
       "1066  genre fiction       846.94            508.164        7.99        1270   \n",
       "1067  genre fiction       846.94            508.164        7.99        1271   \n",
       "1068  genre fiction       104.94             62.964        0.99        1272   \n",
       "1069  genre fiction       316.94              0.000        2.99        1273   \n",
       "\n",
       "                          Publisher   units sold  \n",
       "1065  Amazon Digital Services,  Inc.         106  \n",
       "1066                Random House LLC         106  \n",
       "1067             Hachette Book Group         106  \n",
       "1068  Amazon Digital Services,  Inc.         106  \n",
       "1069  Amazon Digital Services,  Inc.         106  "
      ]
     },
     "execution_count": 43,
     "metadata": {},
     "output_type": "execute_result"
    }
   ],
   "source": [
    "books_data_clean = pd.read_csv('Books_Data_Clean.csv')\n",
    "books_data_clean.tail(5)"
   ]
  },
  {
   "cell_type": "code",
   "execution_count": 8,
   "metadata": {},
   "outputs": [
    {
     "data": {
      "text/html": [
       "<div>\n",
       "<style scoped>\n",
       "    .dataframe tbody tr th:only-of-type {\n",
       "        vertical-align: middle;\n",
       "    }\n",
       "\n",
       "    .dataframe tbody tr th {\n",
       "        vertical-align: top;\n",
       "    }\n",
       "\n",
       "    .dataframe thead th {\n",
       "        text-align: right;\n",
       "    }\n",
       "</style>\n",
       "<table border=\"1\" class=\"dataframe\">\n",
       "  <thead>\n",
       "    <tr style=\"text-align: right;\">\n",
       "      <th></th>\n",
       "      <th>asin</th>\n",
       "      <th>title</th>\n",
       "      <th>author</th>\n",
       "      <th>soldBy</th>\n",
       "      <th>imgUrl</th>\n",
       "      <th>productURL</th>\n",
       "      <th>stars</th>\n",
       "      <th>reviews</th>\n",
       "      <th>price</th>\n",
       "      <th>isKindleUnlimited</th>\n",
       "      <th>category_id</th>\n",
       "      <th>isBestSeller</th>\n",
       "      <th>isEditorsPick</th>\n",
       "      <th>isGoodReadsChoice</th>\n",
       "      <th>publishedDate</th>\n",
       "      <th>category_name</th>\n",
       "    </tr>\n",
       "  </thead>\n",
       "  <tbody>\n",
       "    <tr>\n",
       "      <th>28548</th>\n",
       "      <td>B0BRJKYQHG</td>\n",
       "      <td>The Coin Collecting Bible 2023: [6 in 1] The U...</td>\n",
       "      <td>John Adams</td>\n",
       "      <td>Amazon.com Services LLC</td>\n",
       "      <td>https://m.media-amazon.com/images/I/91xtBTQg2q...</td>\n",
       "      <td>https://www.amazon.com/dp/B0BRJKYQHG</td>\n",
       "      <td>4.0</td>\n",
       "      <td>0</td>\n",
       "      <td>9.99</td>\n",
       "      <td>True</td>\n",
       "      <td>26</td>\n",
       "      <td>False</td>\n",
       "      <td>False</td>\n",
       "      <td>False</td>\n",
       "      <td>2023-01-01</td>\n",
       "      <td>Crafts, Hobbies &amp; Home</td>\n",
       "    </tr>\n",
       "    <tr>\n",
       "      <th>124311</th>\n",
       "      <td>B01M003A3P</td>\n",
       "      <td>Virtual Competition: The Promise and Perils of...</td>\n",
       "      <td>Ariel Ezrachi</td>\n",
       "      <td>Amazon.com Services LLC</td>\n",
       "      <td>https://m.media-amazon.com/images/I/81xk71R9Tq...</td>\n",
       "      <td>https://www.amazon.com/dp/B01M003A3P</td>\n",
       "      <td>4.2</td>\n",
       "      <td>0</td>\n",
       "      <td>13.20</td>\n",
       "      <td>False</td>\n",
       "      <td>20</td>\n",
       "      <td>False</td>\n",
       "      <td>False</td>\n",
       "      <td>False</td>\n",
       "      <td>2016-11-14</td>\n",
       "      <td>Law</td>\n",
       "    </tr>\n",
       "    <tr>\n",
       "      <th>28995</th>\n",
       "      <td>B0BDW9C3JY</td>\n",
       "      <td>A Long Time Coming</td>\n",
       "      <td>Meghan Quinn</td>\n",
       "      <td>Amazon.com Services LLC</td>\n",
       "      <td>https://m.media-amazon.com/images/I/81Dh1dKE-5...</td>\n",
       "      <td>https://www.amazon.com/dp/B0BDW9C3JY</td>\n",
       "      <td>4.5</td>\n",
       "      <td>23081</td>\n",
       "      <td>4.99</td>\n",
       "      <td>True</td>\n",
       "      <td>5</td>\n",
       "      <td>False</td>\n",
       "      <td>False</td>\n",
       "      <td>False</td>\n",
       "      <td>2023-01-10</td>\n",
       "      <td>Literature &amp; Fiction</td>\n",
       "    </tr>\n",
       "    <tr>\n",
       "      <th>2810</th>\n",
       "      <td>B08QG3C9F3</td>\n",
       "      <td>Untigering: Peaceful Parenting for the Deconst...</td>\n",
       "      <td>Iris Chen</td>\n",
       "      <td>Amazon.com Services LLC</td>\n",
       "      <td>https://m.media-amazon.com/images/I/811WKbv-0X...</td>\n",
       "      <td>https://www.amazon.com/dp/B08QG3C9F3</td>\n",
       "      <td>4.8</td>\n",
       "      <td>0</td>\n",
       "      <td>6.99</td>\n",
       "      <td>True</td>\n",
       "      <td>6</td>\n",
       "      <td>False</td>\n",
       "      <td>False</td>\n",
       "      <td>False</td>\n",
       "      <td>2020-12-12</td>\n",
       "      <td>Parenting &amp; Relationships</td>\n",
       "    </tr>\n",
       "    <tr>\n",
       "      <th>96463</th>\n",
       "      <td>B07PSDXQKJ</td>\n",
       "      <td>All Along You Were Blooming: Thoughts for Boun...</td>\n",
       "      <td>Morgan Harper Nichols</td>\n",
       "      <td>HarperCollins Publishing</td>\n",
       "      <td>https://m.media-amazon.com/images/I/81Hn2ZZf3y...</td>\n",
       "      <td>https://www.amazon.com/dp/B07PSDXQKJ</td>\n",
       "      <td>4.8</td>\n",
       "      <td>4121</td>\n",
       "      <td>11.99</td>\n",
       "      <td>True</td>\n",
       "      <td>31</td>\n",
       "      <td>False</td>\n",
       "      <td>False</td>\n",
       "      <td>True</td>\n",
       "      <td>2020-01-21</td>\n",
       "      <td>Self-Help</td>\n",
       "    </tr>\n",
       "  </tbody>\n",
       "</table>\n",
       "</div>"
      ],
      "text/plain": [
       "              asin                                              title  \\\n",
       "28548   B0BRJKYQHG  The Coin Collecting Bible 2023: [6 in 1] The U...   \n",
       "124311  B01M003A3P  Virtual Competition: The Promise and Perils of...   \n",
       "28995   B0BDW9C3JY                                 A Long Time Coming   \n",
       "2810    B08QG3C9F3  Untigering: Peaceful Parenting for the Deconst...   \n",
       "96463   B07PSDXQKJ  All Along You Were Blooming: Thoughts for Boun...   \n",
       "\n",
       "                       author                    soldBy  \\\n",
       "28548              John Adams   Amazon.com Services LLC   \n",
       "124311          Ariel Ezrachi   Amazon.com Services LLC   \n",
       "28995            Meghan Quinn   Amazon.com Services LLC   \n",
       "2810                Iris Chen   Amazon.com Services LLC   \n",
       "96463   Morgan Harper Nichols  HarperCollins Publishing   \n",
       "\n",
       "                                                   imgUrl  \\\n",
       "28548   https://m.media-amazon.com/images/I/91xtBTQg2q...   \n",
       "124311  https://m.media-amazon.com/images/I/81xk71R9Tq...   \n",
       "28995   https://m.media-amazon.com/images/I/81Dh1dKE-5...   \n",
       "2810    https://m.media-amazon.com/images/I/811WKbv-0X...   \n",
       "96463   https://m.media-amazon.com/images/I/81Hn2ZZf3y...   \n",
       "\n",
       "                                  productURL  stars  reviews  price  \\\n",
       "28548   https://www.amazon.com/dp/B0BRJKYQHG    4.0        0   9.99   \n",
       "124311  https://www.amazon.com/dp/B01M003A3P    4.2        0  13.20   \n",
       "28995   https://www.amazon.com/dp/B0BDW9C3JY    4.5    23081   4.99   \n",
       "2810    https://www.amazon.com/dp/B08QG3C9F3    4.8        0   6.99   \n",
       "96463   https://www.amazon.com/dp/B07PSDXQKJ    4.8     4121  11.99   \n",
       "\n",
       "        isKindleUnlimited  category_id  isBestSeller  isEditorsPick  \\\n",
       "28548                True           26         False          False   \n",
       "124311              False           20         False          False   \n",
       "28995                True            5         False          False   \n",
       "2810                 True            6         False          False   \n",
       "96463                True           31         False          False   \n",
       "\n",
       "        isGoodReadsChoice publishedDate              category_name  \n",
       "28548               False    2023-01-01     Crafts, Hobbies & Home  \n",
       "124311              False    2016-11-14                        Law  \n",
       "28995               False    2023-01-10       Literature & Fiction  \n",
       "2810                False    2020-12-12  Parenting & Relationships  \n",
       "96463                True    2020-01-21                  Self-Help  "
      ]
     },
     "execution_count": 8,
     "metadata": {},
     "output_type": "execute_result"
    }
   ],
   "source": [
    "kindle = pd.read_csv('kindle_data-v2.csv')\n",
    "kindle.sample(5)"
   ]
  },
  {
   "cell_type": "code",
   "execution_count": 9,
   "metadata": {},
   "outputs": [
    {
     "data": {
      "text/plain": [
       "(1070, 15)"
      ]
     },
     "execution_count": 9,
     "metadata": {},
     "output_type": "execute_result"
    }
   ],
   "source": [
    "books_data_clean.shape"
   ]
  },
  {
   "cell_type": "code",
   "execution_count": 10,
   "metadata": {},
   "outputs": [
    {
     "data": {
      "text/plain": [
       "(133102, 16)"
      ]
     },
     "execution_count": 10,
     "metadata": {},
     "output_type": "execute_result"
    }
   ],
   "source": [
    "kindle.shape"
   ]
  },
  {
   "cell_type": "code",
   "execution_count": 12,
   "metadata": {},
   "outputs": [
    {
     "data": {
      "text/plain": [
       "0"
      ]
     },
     "execution_count": 12,
     "metadata": {},
     "output_type": "execute_result"
    }
   ],
   "source": [
    "books_data_clean.duplicated().sum()"
   ]
  },
  {
   "cell_type": "markdown",
   "metadata": {},
   "source": [
    "Año a object, quitar palabra genre de columna genre"
   ]
  },
  {
   "cell_type": "code",
   "execution_count": 37,
   "metadata": {},
   "outputs": [
    {
     "data": {
      "text/plain": [
       "Publishing Year         object\n",
       "Book Name               object\n",
       "Author                  object\n",
       "language_code           object\n",
       "Author_Rating           object\n",
       "Book_average_rating    float64\n",
       "Book_ratings_count       int64\n",
       "genre                   object\n",
       "gross sales            float64\n",
       "publisher revenue      float64\n",
       "sale price             float64\n",
       "sales rank               int64\n",
       "Publisher               object\n",
       "units sold               int64\n",
       "dtype: object"
      ]
     },
     "execution_count": 37,
     "metadata": {},
     "output_type": "execute_result"
    }
   ],
   "source": [
    "books_data_clean.dtypes"
   ]
  },
  {
   "cell_type": "code",
   "execution_count": 38,
   "metadata": {},
   "outputs": [
    {
     "data": {
      "text/plain": [
       "Publishing Year         1\n",
       "Book Name              23\n",
       "Author                  0\n",
       "language_code          53\n",
       "Author_Rating           0\n",
       "Book_average_rating     0\n",
       "Book_ratings_count      0\n",
       "genre                   0\n",
       "gross sales             0\n",
       "publisher revenue       0\n",
       "sale price              0\n",
       "sales rank              0\n",
       "Publisher               0\n",
       "units sold              0\n",
       "dtype: int64"
      ]
     },
     "execution_count": 38,
     "metadata": {},
     "output_type": "execute_result"
    }
   ],
   "source": [
    "books_data_clean.isnull().sum()"
   ]
  },
  {
   "cell_type": "code",
   "execution_count": 44,
   "metadata": {},
   "outputs": [],
   "source": [
    "books_data_clean['Publishing Year'] = books_data_clean['Publishing Year'].fillna(0)"
   ]
  },
  {
   "cell_type": "code",
   "execution_count": 45,
   "metadata": {},
   "outputs": [
    {
     "data": {
      "text/plain": [
       "index                   0\n",
       "Publishing Year         0\n",
       "Book Name              23\n",
       "Author                  0\n",
       "language_code          53\n",
       "Author_Rating           0\n",
       "Book_average_rating     0\n",
       "Book_ratings_count      0\n",
       "genre                   0\n",
       "gross sales             0\n",
       "publisher revenue       0\n",
       "sale price              0\n",
       "sales rank              0\n",
       "Publisher               0\n",
       "units sold              0\n",
       "dtype: int64"
      ]
     },
     "execution_count": 45,
     "metadata": {},
     "output_type": "execute_result"
    }
   ],
   "source": [
    "books_data_clean.isnull().sum()"
   ]
  },
  {
   "cell_type": "code",
   "execution_count": 46,
   "metadata": {},
   "outputs": [
    {
     "data": {
      "text/plain": [
       "index                    int64\n",
       "Publishing Year        float64\n",
       "Book Name               object\n",
       "Author                  object\n",
       "language_code           object\n",
       "Author_Rating           object\n",
       "Book_average_rating    float64\n",
       "Book_ratings_count       int64\n",
       "genre                   object\n",
       "gross sales            float64\n",
       "publisher revenue      float64\n",
       "sale price             float64\n",
       "sales rank               int64\n",
       "Publisher               object\n",
       "units sold               int64\n",
       "dtype: object"
      ]
     },
     "execution_count": 46,
     "metadata": {},
     "output_type": "execute_result"
    }
   ],
   "source": [
    "books_data_clean.dtypes"
   ]
  },
  {
   "cell_type": "code",
   "execution_count": 47,
   "metadata": {},
   "outputs": [],
   "source": [
    "books_data_clean['Publishing Year'] = books_data_clean['Publishing Year'].astype(int)"
   ]
  },
  {
   "cell_type": "code",
   "execution_count": 48,
   "metadata": {},
   "outputs": [
    {
     "name": "stdout",
     "output_type": "stream",
     "text": [
      "<class 'pandas.core.frame.DataFrame'>\n",
      "RangeIndex: 1070 entries, 0 to 1069\n",
      "Data columns (total 15 columns):\n",
      " #   Column               Non-Null Count  Dtype  \n",
      "---  ------               --------------  -----  \n",
      " 0   index                1070 non-null   int64  \n",
      " 1   Publishing Year      1070 non-null   int64  \n",
      " 2   Book Name            1047 non-null   object \n",
      " 3   Author               1070 non-null   object \n",
      " 4   language_code        1017 non-null   object \n",
      " 5   Author_Rating        1070 non-null   object \n",
      " 6   Book_average_rating  1070 non-null   float64\n",
      " 7   Book_ratings_count   1070 non-null   int64  \n",
      " 8   genre                1070 non-null   object \n",
      " 9   gross sales          1070 non-null   float64\n",
      " 10  publisher revenue    1070 non-null   float64\n",
      " 11  sale price           1070 non-null   float64\n",
      " 12  sales rank           1070 non-null   int64  \n",
      " 13  Publisher            1070 non-null   object \n",
      " 14  units sold           1070 non-null   int64  \n",
      "dtypes: float64(4), int64(5), object(6)\n",
      "memory usage: 125.5+ KB\n"
     ]
    }
   ],
   "source": [
    "books_data_clean.info()"
   ]
  },
  {
   "cell_type": "code",
   "execution_count": 50,
   "metadata": {},
   "outputs": [],
   "source": [
    "books_data_clean['Publishing Year'] = books_data_clean['Publishing Year'].astype(object)"
   ]
  },
  {
   "cell_type": "code",
   "execution_count": 51,
   "metadata": {},
   "outputs": [
    {
     "data": {
      "text/plain": [
       "index                    int64\n",
       "Publishing Year         object\n",
       "Book Name               object\n",
       "Author                  object\n",
       "language_code           object\n",
       "Author_Rating           object\n",
       "Book_average_rating    float64\n",
       "Book_ratings_count       int64\n",
       "genre                   object\n",
       "gross sales            float64\n",
       "publisher revenue      float64\n",
       "sale price             float64\n",
       "sales rank               int64\n",
       "Publisher               object\n",
       "units sold               int64\n",
       "dtype: object"
      ]
     },
     "execution_count": 51,
     "metadata": {},
     "output_type": "execute_result"
    }
   ],
   "source": [
    "books_data_clean.dtypes"
   ]
  },
  {
   "cell_type": "code",
   "execution_count": 52,
   "metadata": {},
   "outputs": [
    {
     "data": {
      "text/plain": [
       "genre\n",
       "genre fiction    822\n",
       "nonfiction       171\n",
       "fiction           62\n",
       "children          15\n",
       "Name: count, dtype: int64"
      ]
     },
     "execution_count": 52,
     "metadata": {},
     "output_type": "execute_result"
    }
   ],
   "source": [
    "books_data_clean['genre'].value_counts()"
   ]
  },
  {
   "cell_type": "code",
   "execution_count": 53,
   "metadata": {},
   "outputs": [],
   "source": [
    "# Unificar los valores 'fiction' y 'genrefiction' en 'fiction'\n",
    "books_data_clean['genre'] = books_data_clean['genre'].replace({'genre fiction': 'fiction'})"
   ]
  },
  {
   "cell_type": "code",
   "execution_count": 54,
   "metadata": {},
   "outputs": [],
   "source": [
    "books_data_clean['genre'] = books_data_clean['genre'].replace({'nonfiction': 'non fiction'})"
   ]
  },
  {
   "cell_type": "code",
   "execution_count": 55,
   "metadata": {},
   "outputs": [
    {
     "data": {
      "text/plain": [
       "genre\n",
       "fiction        884\n",
       "non fiction    171\n",
       "children        15\n",
       "Name: count, dtype: int64"
      ]
     },
     "execution_count": 55,
     "metadata": {},
     "output_type": "execute_result"
    }
   ],
   "source": [
    "books_data_clean['genre'].value_counts()"
   ]
  },
  {
   "cell_type": "code",
   "execution_count": 58,
   "metadata": {},
   "outputs": [],
   "source": [
    "books_data_clean = books_data_clean.drop(columns=['index'])"
   ]
  },
  {
   "cell_type": "code",
   "execution_count": 59,
   "metadata": {},
   "outputs": [
    {
     "data": {
      "text/html": [
       "<div>\n",
       "<style scoped>\n",
       "    .dataframe tbody tr th:only-of-type {\n",
       "        vertical-align: middle;\n",
       "    }\n",
       "\n",
       "    .dataframe tbody tr th {\n",
       "        vertical-align: top;\n",
       "    }\n",
       "\n",
       "    .dataframe thead th {\n",
       "        text-align: right;\n",
       "    }\n",
       "</style>\n",
       "<table border=\"1\" class=\"dataframe\">\n",
       "  <thead>\n",
       "    <tr style=\"text-align: right;\">\n",
       "      <th></th>\n",
       "      <th>Publishing Year</th>\n",
       "      <th>Book Name</th>\n",
       "      <th>Author</th>\n",
       "      <th>language_code</th>\n",
       "      <th>Author_Rating</th>\n",
       "      <th>Book_average_rating</th>\n",
       "      <th>Book_ratings_count</th>\n",
       "      <th>genre</th>\n",
       "      <th>gross sales</th>\n",
       "      <th>publisher revenue</th>\n",
       "      <th>sale price</th>\n",
       "      <th>sales rank</th>\n",
       "      <th>Publisher</th>\n",
       "      <th>units sold</th>\n",
       "    </tr>\n",
       "  </thead>\n",
       "  <tbody>\n",
       "    <tr>\n",
       "      <th>0</th>\n",
       "      <td>1975</td>\n",
       "      <td>Beowulf</td>\n",
       "      <td>Unknown, Seamus Heaney</td>\n",
       "      <td>en-US</td>\n",
       "      <td>Novice</td>\n",
       "      <td>3.42</td>\n",
       "      <td>155903</td>\n",
       "      <td>fiction</td>\n",
       "      <td>34160.0</td>\n",
       "      <td>20496.0</td>\n",
       "      <td>4.88</td>\n",
       "      <td>1</td>\n",
       "      <td>HarperCollins Publishers</td>\n",
       "      <td>7000</td>\n",
       "    </tr>\n",
       "    <tr>\n",
       "      <th>1</th>\n",
       "      <td>1987</td>\n",
       "      <td>Batman: Year One</td>\n",
       "      <td>Frank Miller, David Mazzucchelli, Richmond Lew...</td>\n",
       "      <td>eng</td>\n",
       "      <td>Intermediate</td>\n",
       "      <td>4.23</td>\n",
       "      <td>145267</td>\n",
       "      <td>fiction</td>\n",
       "      <td>12437.5</td>\n",
       "      <td>7462.5</td>\n",
       "      <td>1.99</td>\n",
       "      <td>2</td>\n",
       "      <td>HarperCollins Publishers</td>\n",
       "      <td>6250</td>\n",
       "    </tr>\n",
       "    <tr>\n",
       "      <th>2</th>\n",
       "      <td>2015</td>\n",
       "      <td>Go Set a Watchman</td>\n",
       "      <td>Harper Lee</td>\n",
       "      <td>eng</td>\n",
       "      <td>Novice</td>\n",
       "      <td>3.31</td>\n",
       "      <td>138669</td>\n",
       "      <td>fiction</td>\n",
       "      <td>47795.0</td>\n",
       "      <td>28677.0</td>\n",
       "      <td>8.69</td>\n",
       "      <td>3</td>\n",
       "      <td>Amazon Digital Services,  Inc.</td>\n",
       "      <td>5500</td>\n",
       "    </tr>\n",
       "    <tr>\n",
       "      <th>3</th>\n",
       "      <td>2008</td>\n",
       "      <td>When You Are Engulfed in Flames</td>\n",
       "      <td>David Sedaris</td>\n",
       "      <td>en-US</td>\n",
       "      <td>Intermediate</td>\n",
       "      <td>4.04</td>\n",
       "      <td>150898</td>\n",
       "      <td>fiction</td>\n",
       "      <td>41250.0</td>\n",
       "      <td>24750.0</td>\n",
       "      <td>7.50</td>\n",
       "      <td>3</td>\n",
       "      <td>Hachette Book Group</td>\n",
       "      <td>5500</td>\n",
       "    </tr>\n",
       "    <tr>\n",
       "      <th>4</th>\n",
       "      <td>2011</td>\n",
       "      <td>Daughter of Smoke &amp; Bone</td>\n",
       "      <td>Laini Taylor</td>\n",
       "      <td>eng</td>\n",
       "      <td>Intermediate</td>\n",
       "      <td>4.04</td>\n",
       "      <td>198283</td>\n",
       "      <td>fiction</td>\n",
       "      <td>37952.5</td>\n",
       "      <td>22771.5</td>\n",
       "      <td>7.99</td>\n",
       "      <td>4</td>\n",
       "      <td>Penguin Group (USA) LLC</td>\n",
       "      <td>4750</td>\n",
       "    </tr>\n",
       "  </tbody>\n",
       "</table>\n",
       "</div>"
      ],
      "text/plain": [
       "  Publishing Year                        Book Name  \\\n",
       "0            1975                          Beowulf   \n",
       "1            1987                 Batman: Year One   \n",
       "2            2015                Go Set a Watchman   \n",
       "3            2008  When You Are Engulfed in Flames   \n",
       "4            2011         Daughter of Smoke & Bone   \n",
       "\n",
       "                                              Author language_code  \\\n",
       "0                             Unknown, Seamus Heaney         en-US   \n",
       "1  Frank Miller, David Mazzucchelli, Richmond Lew...           eng   \n",
       "2                                         Harper Lee           eng   \n",
       "3                                      David Sedaris         en-US   \n",
       "4                                       Laini Taylor           eng   \n",
       "\n",
       "  Author_Rating  Book_average_rating  Book_ratings_count    genre  \\\n",
       "0        Novice                 3.42              155903  fiction   \n",
       "1  Intermediate                 4.23              145267  fiction   \n",
       "2        Novice                 3.31              138669  fiction   \n",
       "3  Intermediate                 4.04              150898  fiction   \n",
       "4  Intermediate                 4.04              198283  fiction   \n",
       "\n",
       "   gross sales  publisher revenue  sale price  sales rank  \\\n",
       "0      34160.0            20496.0        4.88           1   \n",
       "1      12437.5             7462.5        1.99           2   \n",
       "2      47795.0            28677.0        8.69           3   \n",
       "3      41250.0            24750.0        7.50           3   \n",
       "4      37952.5            22771.5        7.99           4   \n",
       "\n",
       "                       Publisher   units sold  \n",
       "0        HarperCollins Publishers        7000  \n",
       "1        HarperCollins Publishers        6250  \n",
       "2  Amazon Digital Services,  Inc.        5500  \n",
       "3             Hachette Book Group        5500  \n",
       "4         Penguin Group (USA) LLC        4750  "
      ]
     },
     "execution_count": 59,
     "metadata": {},
     "output_type": "execute_result"
    }
   ],
   "source": [
    "books_data_clean.head()"
   ]
  },
  {
   "cell_type": "code",
   "execution_count": 60,
   "metadata": {},
   "outputs": [],
   "source": [
    "books_data_clean.to_csv('books_data_clean')"
   ]
  }
 ],
 "metadata": {
  "kernelspec": {
   "display_name": "Python 3",
   "language": "python",
   "name": "python3"
  },
  "language_info": {
   "codemirror_mode": {
    "name": "ipython",
    "version": 3
   },
   "file_extension": ".py",
   "mimetype": "text/x-python",
   "name": "python",
   "nbconvert_exporter": "python",
   "pygments_lexer": "ipython3",
   "version": "3.11.5"
  }
 },
 "nbformat": 4,
 "nbformat_minor": 2
}
